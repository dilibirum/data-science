{
 "cells": [
  {
   "cell_type": "markdown",
   "metadata": {},
   "source": [
    "# Сбор данных для анализа тендеров"
   ]
  },
  {
   "cell_type": "markdown",
   "metadata": {},
   "source": [
    "Источник: [https://zakupki.gov.ru](https://zakupki.gov.ru/epz/main/public/home.html)"
   ]
  },
  {
   "cell_type": "markdown",
   "metadata": {},
   "source": [
    "### Импорт библиотек"
   ]
  },
  {
   "cell_type": "code",
   "execution_count": 49,
   "metadata": {},
   "outputs": [],
   "source": [
    "import time \n",
    "import urllib.parse\n",
    "\n",
    "# библиотеки для работы с HTML\n",
    "import requests\n",
    "import selenium\n",
    "from selenium import webdriver\n",
    "from bs4 import BeautifulSoup\n",
    "\n",
    "# библиотеки для предобработки и анализа данных \n",
    "import pandas as pd\n",
    "\n",
    "# библиотеки для работы в jupyter notebook\n",
    "import warnings\n",
    "warnings.filterwarnings(action='once')  # показывает предупреждения один раз\n",
    "warnings.filterwarnings('ignore')"
   ]
  },
  {
   "cell_type": "markdown",
   "metadata": {},
   "source": [
    "###### Формируем ссылки на страницы для парсинга"
   ]
  },
  {
   "cell_type": "code",
   "execution_count": 50,
   "metadata": {},
   "outputs": [],
   "source": [
    "def get_query(search_string='', \n",
    "              search_filter='Дате размещения',\n",
    "              page_number=1, \n",
    "              start_date='01.01.2012', \n",
    "              end_date='31.12.2012'):\n",
    "    s_str = '+'.join(list(map(urllib.parse.quote, search_string.split())))\n",
    "    s_flt = '+'.join(list(map(urllib.parse.quote, search_filter.split())))\n",
    "    query = 'https://zakupki.gov.ru/epz/order/extendedsearch/results.html' \\\n",
    "            + f'?searchString={s_str}' \\\n",
    "            + '&morphology=on' \\\n",
    "            + f'&search-filter=+{s_flt}' \\\n",
    "            + f'&pageNumber={page_number}' \\\n",
    "            + '&sortDirection=true' \\\n",
    "            + '&recordsPerPage=_100' \\\n",
    "            + '&showLotsInfoHidden=false' \\\n",
    "            + '&sortBy=PUBLISH_DATE' \\\n",
    "            + '&fz44=on' \\\n",
    "            + '&fz223=on' \\\n",
    "            + '&af=on' \\\n",
    "            + '&ca=on' \\\n",
    "            + '&pc=on' \\\n",
    "            + '&pa=on'\\\n",
    "            + '&selectedSubjectsIdNameHidden=%7B%7D' \\\n",
    "            + f'&publishDateFrom={start_date}' \\\n",
    "            + f'&publishDateTo={end_date}' \\\n",
    "            + '&currencyIdGeneral=-1' \\\n",
    "            + '&OrderPlacementSmallBusinessSubject=on' \\\n",
    "            + '&OrderPlacementRnpData=on' \\\n",
    "            + '&OrderPlacementExecutionRequirement=on' \\\n",
    "            + '&orderPlacement94_0=0' \\\n",
    "            + '&orderPlacement94_1=0' \\\n",
    "            + '&orderPlacement94_2=0'\n",
    "    return query"
   ]
  },
  {
   "cell_type": "code",
   "execution_count": 55,
   "metadata": {},
   "outputs": [],
   "source": [
    "def get_urls(query):\n",
    "    result = []\n",
    "    dates = [\n",
    "            ('01.01.2012', '31.12.2012', 1),\n",
    "            ('01.01.2013', '31.12.2013', 4) ,\n",
    "            ('01.01.2014', '30.06.2014', 8),\n",
    "            ('01.07.2014', '31.12.2014', 8),\n",
    "            ('01.01.2015', '30.06.2015', 8),\n",
    "            ('01.07.2015', '31.12.2015', 8),\n",
    "            ('01.01.2016', '30.06.2016', 8),\n",
    "            ('01.07.2016', '31.12.2016', 8),\n",
    "            ('01.01.2017', '30.06.2017', 8),\n",
    "            ('01.07.2017', '31.12.2017', 8),\n",
    "            ('01.01.2018', '30.06.2018', 8),\n",
    "            ('01.07.2018', '31.12.2018', 7),\n",
    "            ('01.01.2019', '30.06.2019', 8),\n",
    "            ('01.07.2019', '31.12.2019', 7),\n",
    "            ('01.01.2020', '21.05.2020', 3),\n",
    "            ]\n",
    "    for date in dates:\n",
    "        for i in range(1, date[2] + 1):\n",
    "            result.append(get_query(search_string=query,\n",
    "                                    start_date=date[0],\n",
    "                                    end_date=date[1],\n",
    "                                    page_number=i,\n",
    "                                   ))\n",
    "    return result"
   ]
  },
  {
   "cell_type": "code",
   "execution_count": 56,
   "metadata": {},
   "outputs": [],
   "source": [
    "query = 'разработка информационных систем'"
   ]
  },
  {
   "cell_type": "code",
   "execution_count": 57,
   "metadata": {},
   "outputs": [],
   "source": [
    "URLS = get_urls(query)"
   ]
  },
  {
   "cell_type": "code",
   "execution_count": 58,
   "metadata": {},
   "outputs": [
    {
     "data": {
      "text/plain": [
       "'https://zakupki.gov.ru/epz/order/extendedsearch/results.html?searchString=%D1%80%D0%B0%D0%B7%D1%80%D0%B0%D0%B1%D0%BE%D1%82%D0%BA%D0%B0+%D0%B8%D0%BD%D1%84%D0%BE%D1%80%D0%BC%D0%B0%D1%86%D0%B8%D0%BE%D0%BD%D0%BD%D1%8B%D1%85+%D1%81%D0%B8%D1%81%D1%82%D0%B5%D0%BC&morphology=on&search-filter=+%D0%94%D0%B0%D1%82%D0%B5+%D1%80%D0%B0%D0%B7%D0%BC%D0%B5%D1%89%D0%B5%D0%BD%D0%B8%D1%8F&pageNumber=3&sortDirection=true&recordsPerPage=_100&showLotsInfoHidden=false&sortBy=PUBLISH_DATE&fz44=on&fz223=on&af=on&ca=on&pc=on&pa=on&selectedSubjectsIdNameHidden=%7B%7D&publishDateFrom=01.01.2014&publishDateTo=30.06.2014&currencyIdGeneral=-1&OrderPlacementSmallBusinessSubject=on&OrderPlacementRnpData=on&OrderPlacementExecutionRequirement=on&orderPlacement94_0=0&orderPlacement94_1=0&orderPlacement94_2=0'"
      ]
     },
     "execution_count": 58,
     "metadata": {},
     "output_type": "execute_result"
    }
   ],
   "source": [
    "URLS[7]"
   ]
  },
  {
   "cell_type": "markdown",
   "metadata": {},
   "source": [
    "###### Создаем драйвер для браузера"
   ]
  },
  {
   "cell_type": "code",
   "execution_count": 59,
   "metadata": {},
   "outputs": [],
   "source": [
    "# https://chromedriver.chromium.org/downloads\n",
    "\n",
    "options = webdriver.ChromeOptions()\n",
    "options.binary_location = '/Applications/Google Chrome.app/Contents/MacOS/Google Chrome'\n",
    "\n",
    "webdriver_address = '../../drivers/chromedriver_83'"
   ]
  },
  {
   "cell_type": "markdown",
   "metadata": {},
   "source": [
    "###### Тестируем подключение"
   ]
  },
  {
   "cell_type": "code",
   "execution_count": 60,
   "metadata": {},
   "outputs": [],
   "source": [
    "driver = webdriver.Chrome(webdriver_address, options=options)"
   ]
  },
  {
   "cell_type": "markdown",
   "metadata": {},
   "source": [
    "###### Читаем HTML-страницы и сохраняем их в список"
   ]
  },
  {
   "cell_type": "code",
   "execution_count": 61,
   "metadata": {},
   "outputs": [],
   "source": [
    "HTMLS = []"
   ]
  },
  {
   "cell_type": "code",
   "execution_count": 62,
   "metadata": {},
   "outputs": [
    {
     "name": "stdout",
     "output_type": "stream",
     "text": [
      "CPU times: user 1.63 s, sys: 225 ms, total: 1.86 s\n",
      "Wall time: 13min 19s\n"
     ]
    }
   ],
   "source": [
    "%%time\n",
    "\n",
    "for URL in URLS:\n",
    "    driver.get(URL)\n",
    "    HTMLS.append(driver.page_source)\n",
    "    time.sleep(5)"
   ]
  },
  {
   "cell_type": "code",
   "execution_count": 63,
   "metadata": {},
   "outputs": [
    {
     "data": {
      "text/plain": [
       "102"
      ]
     },
     "execution_count": 63,
     "metadata": {},
     "output_type": "execute_result"
    }
   ],
   "source": [
    "len(HTMLS)"
   ]
  },
  {
   "cell_type": "markdown",
   "metadata": {},
   "source": [
    "###### Создаем объекты BeaytifulSoup"
   ]
  },
  {
   "cell_type": "code",
   "execution_count": 64,
   "metadata": {},
   "outputs": [],
   "source": [
    "SOUPS = []"
   ]
  },
  {
   "cell_type": "code",
   "execution_count": 65,
   "metadata": {},
   "outputs": [
    {
     "name": "stdout",
     "output_type": "stream",
     "text": [
      "CPU times: user 45.4 s, sys: 3.07 s, total: 48.5 s\n",
      "Wall time: 54.7 s\n"
     ]
    }
   ],
   "source": [
    "%%time\n",
    "for HTML in HTMLS:\n",
    "    SOUPS.append(BeautifulSoup(HTML, 'lxml'))"
   ]
  },
  {
   "cell_type": "markdown",
   "metadata": {},
   "source": [
    "###### Сохраняем карточки с информацией о тендере с кажой страницы"
   ]
  },
  {
   "cell_type": "code",
   "execution_count": 66,
   "metadata": {},
   "outputs": [],
   "source": [
    "SSS = []"
   ]
  },
  {
   "cell_type": "code",
   "execution_count": 67,
   "metadata": {},
   "outputs": [
    {
     "name": "stdout",
     "output_type": "stream",
     "text": [
      "CPU times: user 6.81 s, sys: 79.8 ms, total: 6.89 s\n",
      "Wall time: 8.16 s\n"
     ]
    }
   ],
   "source": [
    "%%time\n",
    "for SOUP in SOUPS:\n",
    "    SSS += SOUP.find_all('div', {'class': 'row no-gutters registry-entry__form mr-0'})"
   ]
  },
  {
   "cell_type": "code",
   "execution_count": 68,
   "metadata": {},
   "outputs": [
    {
     "data": {
      "text/plain": [
       "6454"
      ]
     },
     "execution_count": 68,
     "metadata": {},
     "output_type": "execute_result"
    }
   ],
   "source": [
    "len(SSS)"
   ]
  },
  {
   "cell_type": "markdown",
   "metadata": {},
   "source": [
    "###### Парсим карточки с информацией о тендере и сохранием их список"
   ]
  },
  {
   "cell_type": "code",
   "execution_count": 69,
   "metadata": {},
   "outputs": [],
   "source": [
    "def get_data(s):\n",
    "    __d = dict.fromkeys(['id','law', 'status', 'description', \n",
    "                         'author', 'price', 'start_dt', 'end_dt', 'link'])\n",
    "    if s.text != '':     \n",
    "        __d['id'] = s.find('div', {'class': 'registry-entry__header-mid__number'}).text.strip()[2:]\n",
    "        __d['law'] = s.find('div', {'class': 'registry-entry__header-top__title text-truncate'}).text.split()[0]\n",
    "        __d['status'] = s.find('div', {'class': 'registry-entry__header-mid__title'}).text.strip()\n",
    "        __d['description'] = s.find('div', {'class': 'registry-entry__body-value'}).text\n",
    "        __d['author'] = s.find('div', {'class': 'registry-entry__body-href'}).text.strip()\n",
    "\n",
    "        try:\n",
    "            __d['price'] = s.find('div', {'class': 'price-block__value'}).text.replace(u'\\xa0', '').replace('₽', '').strip()\n",
    "        except AttributeError:\n",
    "            __d['price'] = ''\n",
    "\n",
    "        __d['start_dt'] = s.find('div', {'class': 'data-block__title'}, text='Размещено').find_next().text\n",
    "\n",
    "        try:\n",
    "            __d['end_dt'] = s.find('div', {'class': 'data-block__title'}, text='Окончание подачи заявок').find_next().text\n",
    "        except AttributeError:\n",
    "            __d['end_dt'] = ''\n",
    "\n",
    "        __d['link'] = s.find('div', {'class': 'registry-entry__header-mid__number'}).find('a')['href']\n",
    "        \n",
    "    return __d"
   ]
  },
  {
   "cell_type": "code",
   "execution_count": 70,
   "metadata": {},
   "outputs": [],
   "source": [
    "DL = []"
   ]
  },
  {
   "cell_type": "code",
   "execution_count": 71,
   "metadata": {},
   "outputs": [
    {
     "name": "stdout",
     "output_type": "stream",
     "text": [
      "CPU times: user 21.3 s, sys: 306 ms, total: 21.6 s\n",
      "Wall time: 23.8 s\n"
     ]
    }
   ],
   "source": [
    "%%time\n",
    "for SS in SSS:\n",
    "    DL.append(get_data(SS))"
   ]
  },
  {
   "cell_type": "code",
   "execution_count": 72,
   "metadata": {},
   "outputs": [
    {
     "data": {
      "text/plain": [
       "{'id': '31200000567',\n",
       " 'law': '223-ФЗ',\n",
       " 'status': 'Закупка завершена',\n",
       " 'description': 'Открытый запрос предложений № ЦА 31-12 по выбору организации на право заключения договора на выполнение работ по разработке и внедрению автоматизированной информационной системы расчета заработной платы и кадрового учета, в том числе информационной системы персональных данных, и интеграции с существующими системами для нужд ФГУП «Росморпорт»',\n",
       " 'author': 'Федеральное государственное унитарное предприятие \"Росморпорт\"',\n",
       " 'price': '12990000,00',\n",
       " 'start_dt': '13.09.2012',\n",
       " 'end_dt': '03.10.2012',\n",
       " 'link': 'https://zakupki.gov.ru/223/purchase/public/purchase/info/common-info.html?regNumber=31200000567'}"
      ]
     },
     "execution_count": 72,
     "metadata": {},
     "output_type": "execute_result"
    }
   ],
   "source": [
    "DL[0]"
   ]
  },
  {
   "cell_type": "markdown",
   "metadata": {},
   "source": [
    "###### Пишем результат в датфрейм"
   ]
  },
  {
   "cell_type": "code",
   "execution_count": 73,
   "metadata": {},
   "outputs": [
    {
     "data": {
      "text/html": [
       "<div>\n",
       "<style scoped>\n",
       "    .dataframe tbody tr th:only-of-type {\n",
       "        vertical-align: middle;\n",
       "    }\n",
       "\n",
       "    .dataframe tbody tr th {\n",
       "        vertical-align: top;\n",
       "    }\n",
       "\n",
       "    .dataframe thead th {\n",
       "        text-align: right;\n",
       "    }\n",
       "</style>\n",
       "<table border=\"1\" class=\"dataframe\">\n",
       "  <thead>\n",
       "    <tr style=\"text-align: right;\">\n",
       "      <th></th>\n",
       "      <th>id</th>\n",
       "      <th>law</th>\n",
       "      <th>status</th>\n",
       "      <th>description</th>\n",
       "      <th>author</th>\n",
       "      <th>price</th>\n",
       "      <th>start_dt</th>\n",
       "      <th>end_dt</th>\n",
       "      <th>link</th>\n",
       "    </tr>\n",
       "  </thead>\n",
       "  <tbody>\n",
       "    <tr>\n",
       "      <th>0</th>\n",
       "      <td>31200000567</td>\n",
       "      <td>223-ФЗ</td>\n",
       "      <td>Закупка завершена</td>\n",
       "      <td>Открытый запрос предложений № ЦА 31-12 по выбо...</td>\n",
       "      <td>Федеральное государственное унитарное предприя...</td>\n",
       "      <td>12990000,00</td>\n",
       "      <td>13.09.2012</td>\n",
       "      <td>03.10.2012</td>\n",
       "      <td>https://zakupki.gov.ru/223/purchase/public/pur...</td>\n",
       "    </tr>\n",
       "    <tr>\n",
       "      <th>1</th>\n",
       "      <td>31200002815</td>\n",
       "      <td>223-ФЗ</td>\n",
       "      <td>Закупка завершена</td>\n",
       "      <td>Открытый запрос предложений (№ ЦА 49-12) по вы...</td>\n",
       "      <td>Федеральное государственное унитарное предприя...</td>\n",
       "      <td>5000000,00</td>\n",
       "      <td>05.10.2012</td>\n",
       "      <td>15.10.2012</td>\n",
       "      <td>https://zakupki.gov.ru/223/purchase/public/pur...</td>\n",
       "    </tr>\n",
       "    <tr>\n",
       "      <th>2</th>\n",
       "      <td>31200002643</td>\n",
       "      <td>223-ФЗ</td>\n",
       "      <td>Закупка отменена</td>\n",
       "      <td>Открытый конкурс на право заключить государств...</td>\n",
       "      <td>Казенное предприятие Республики Тыва \"Центр ин...</td>\n",
       "      <td>3500000,00</td>\n",
       "      <td>05.10.2012</td>\n",
       "      <td>06.11.2012</td>\n",
       "      <td>https://zakupki.gov.ru/223/purchase/public/pur...</td>\n",
       "    </tr>\n",
       "    <tr>\n",
       "      <th>3</th>\n",
       "      <td>31200002875</td>\n",
       "      <td>223-ФЗ</td>\n",
       "      <td>Закупка завершена</td>\n",
       "      <td>Заключение договора с единственным контрагенто...</td>\n",
       "      <td>Банк ВТБ (открытое акционерное общество)</td>\n",
       "      <td>3550000,00</td>\n",
       "      <td>05.10.2012</td>\n",
       "      <td>05.10.2012</td>\n",
       "      <td>https://zakupki.gov.ru/223/purchase/public/pur...</td>\n",
       "    </tr>\n",
       "    <tr>\n",
       "      <th>4</th>\n",
       "      <td>31200003172</td>\n",
       "      <td>223-ФЗ</td>\n",
       "      <td>Закупка завершена</td>\n",
       "      <td>ОАО «Ростелеком» сообщает о проведении запроса...</td>\n",
       "      <td>Открытое акционерное общество междугородной и ...</td>\n",
       "      <td>74844000,00</td>\n",
       "      <td>08.10.2012</td>\n",
       "      <td>15.10.2012</td>\n",
       "      <td>https://zakupki.gov.ru/223/purchase/public/pur...</td>\n",
       "    </tr>\n",
       "    <tr>\n",
       "      <th>...</th>\n",
       "      <td>...</td>\n",
       "      <td>...</td>\n",
       "      <td>...</td>\n",
       "      <td>...</td>\n",
       "      <td>...</td>\n",
       "      <td>...</td>\n",
       "      <td>...</td>\n",
       "      <td>...</td>\n",
       "      <td>...</td>\n",
       "    </tr>\n",
       "    <tr>\n",
       "      <th>6449</th>\n",
       "      <td>0149200002320003555</td>\n",
       "      <td>44-ФЗ</td>\n",
       "      <td>Подача заявок</td>\n",
       "      <td>Оказание услуг по разработке и подключению мод...</td>\n",
       "      <td>КОМИТЕТ ПО КОНКУРЕНТНОЙ ПОЛИТИКЕ МУРМАНСКОЙ ОБ...</td>\n",
       "      <td>408676,00</td>\n",
       "      <td>19.05.2020</td>\n",
       "      <td>28.05.2020</td>\n",
       "      <td>/epz/order/notice/ea44/view/common-info.html?r...</td>\n",
       "    </tr>\n",
       "    <tr>\n",
       "      <th>6450</th>\n",
       "      <td>32009162713</td>\n",
       "      <td>223-ФЗ</td>\n",
       "      <td>Подача заявок</td>\n",
       "      <td>Выполнение работ по разработке отдельных компо...</td>\n",
       "      <td>ОБЩЕСТВО С ОГРАНИЧЕННОЙ ОТВЕТСТВЕННОСТЬЮ \"ЦИФР...</td>\n",
       "      <td>9976320,00</td>\n",
       "      <td>19.05.2020</td>\n",
       "      <td>29.05.2020</td>\n",
       "      <td>https://zakupki.gov.ru/223/purchase/public/pur...</td>\n",
       "    </tr>\n",
       "    <tr>\n",
       "      <th>6451</th>\n",
       "      <td>0813500000120007130</td>\n",
       "      <td>44-ФЗ</td>\n",
       "      <td>Подача заявок</td>\n",
       "      <td>№ зз-17715-2020 Выполнение работ по разработке...</td>\n",
       "      <td>ГОСУДАРСТВЕННОЕ КАЗЕННОЕ УЧРЕЖДЕНИЕ УДМУРТСКОЙ...</td>\n",
       "      <td>9998333,33</td>\n",
       "      <td>20.05.2020</td>\n",
       "      <td>11.06.2020</td>\n",
       "      <td>/epz/order/notice/ok504/view/common-info.html?...</td>\n",
       "    </tr>\n",
       "    <tr>\n",
       "      <th>6452</th>\n",
       "      <td>0320300133920000004</td>\n",
       "      <td>44-ФЗ</td>\n",
       "      <td>Подача заявок</td>\n",
       "      <td>Оказание услуг по разработке информационных и ...</td>\n",
       "      <td>МУНИЦИПАЛЬНОЕ КАЗЕННОЕ  УЧРЕЖДЕНИЕ \"ЦЕНТРАЛИЗО...</td>\n",
       "      <td>1979557,51</td>\n",
       "      <td>20.05.2020</td>\n",
       "      <td>28.05.2020</td>\n",
       "      <td>/epz/order/notice/ea44/view/common-info.html?r...</td>\n",
       "    </tr>\n",
       "    <tr>\n",
       "      <th>6453</th>\n",
       "      <td>0273100001620000005</td>\n",
       "      <td>44-ФЗ</td>\n",
       "      <td>Подача заявок</td>\n",
       "      <td>Разработка проектной документации на техническ...</td>\n",
       "      <td>ГОСУДАРСТВЕННОЕ УЧРЕЖДЕНИЕ - МЕЖРЕГИОНАЛЬНЫЙ И...</td>\n",
       "      <td>2932833,33</td>\n",
       "      <td>20.05.2020</td>\n",
       "      <td>11.06.2020</td>\n",
       "      <td>/epz/order/notice/ok504/view/common-info.html?...</td>\n",
       "    </tr>\n",
       "  </tbody>\n",
       "</table>\n",
       "<p>6454 rows × 9 columns</p>\n",
       "</div>"
      ],
      "text/plain": [
       "                       id     law             status  \\\n",
       "0             31200000567  223-ФЗ  Закупка завершена   \n",
       "1             31200002815  223-ФЗ  Закупка завершена   \n",
       "2             31200002643  223-ФЗ   Закупка отменена   \n",
       "3             31200002875  223-ФЗ  Закупка завершена   \n",
       "4             31200003172  223-ФЗ  Закупка завершена   \n",
       "...                   ...     ...                ...   \n",
       "6449  0149200002320003555   44-ФЗ      Подача заявок   \n",
       "6450          32009162713  223-ФЗ      Подача заявок   \n",
       "6451  0813500000120007130   44-ФЗ      Подача заявок   \n",
       "6452  0320300133920000004   44-ФЗ      Подача заявок   \n",
       "6453  0273100001620000005   44-ФЗ      Подача заявок   \n",
       "\n",
       "                                            description  \\\n",
       "0     Открытый запрос предложений № ЦА 31-12 по выбо...   \n",
       "1     Открытый запрос предложений (№ ЦА 49-12) по вы...   \n",
       "2     Открытый конкурс на право заключить государств...   \n",
       "3     Заключение договора с единственным контрагенто...   \n",
       "4     ОАО «Ростелеком» сообщает о проведении запроса...   \n",
       "...                                                 ...   \n",
       "6449  Оказание услуг по разработке и подключению мод...   \n",
       "6450  Выполнение работ по разработке отдельных компо...   \n",
       "6451  № зз-17715-2020 Выполнение работ по разработке...   \n",
       "6452  Оказание услуг по разработке информационных и ...   \n",
       "6453  Разработка проектной документации на техническ...   \n",
       "\n",
       "                                                 author        price  \\\n",
       "0     Федеральное государственное унитарное предприя...  12990000,00   \n",
       "1     Федеральное государственное унитарное предприя...   5000000,00   \n",
       "2     Казенное предприятие Республики Тыва \"Центр ин...   3500000,00   \n",
       "3              Банк ВТБ (открытое акционерное общество)   3550000,00   \n",
       "4     Открытое акционерное общество междугородной и ...  74844000,00   \n",
       "...                                                 ...          ...   \n",
       "6449  КОМИТЕТ ПО КОНКУРЕНТНОЙ ПОЛИТИКЕ МУРМАНСКОЙ ОБ...    408676,00   \n",
       "6450  ОБЩЕСТВО С ОГРАНИЧЕННОЙ ОТВЕТСТВЕННОСТЬЮ \"ЦИФР...   9976320,00   \n",
       "6451  ГОСУДАРСТВЕННОЕ КАЗЕННОЕ УЧРЕЖДЕНИЕ УДМУРТСКОЙ...   9998333,33   \n",
       "6452  МУНИЦИПАЛЬНОЕ КАЗЕННОЕ  УЧРЕЖДЕНИЕ \"ЦЕНТРАЛИЗО...   1979557,51   \n",
       "6453  ГОСУДАРСТВЕННОЕ УЧРЕЖДЕНИЕ - МЕЖРЕГИОНАЛЬНЫЙ И...   2932833,33   \n",
       "\n",
       "        start_dt      end_dt  \\\n",
       "0     13.09.2012  03.10.2012   \n",
       "1     05.10.2012  15.10.2012   \n",
       "2     05.10.2012  06.11.2012   \n",
       "3     05.10.2012  05.10.2012   \n",
       "4     08.10.2012  15.10.2012   \n",
       "...          ...         ...   \n",
       "6449  19.05.2020  28.05.2020   \n",
       "6450  19.05.2020  29.05.2020   \n",
       "6451  20.05.2020  11.06.2020   \n",
       "6452  20.05.2020  28.05.2020   \n",
       "6453  20.05.2020  11.06.2020   \n",
       "\n",
       "                                                   link  \n",
       "0     https://zakupki.gov.ru/223/purchase/public/pur...  \n",
       "1     https://zakupki.gov.ru/223/purchase/public/pur...  \n",
       "2     https://zakupki.gov.ru/223/purchase/public/pur...  \n",
       "3     https://zakupki.gov.ru/223/purchase/public/pur...  \n",
       "4     https://zakupki.gov.ru/223/purchase/public/pur...  \n",
       "...                                                 ...  \n",
       "6449  /epz/order/notice/ea44/view/common-info.html?r...  \n",
       "6450  https://zakupki.gov.ru/223/purchase/public/pur...  \n",
       "6451  /epz/order/notice/ok504/view/common-info.html?...  \n",
       "6452  /epz/order/notice/ea44/view/common-info.html?r...  \n",
       "6453  /epz/order/notice/ok504/view/common-info.html?...  \n",
       "\n",
       "[6454 rows x 9 columns]"
      ]
     },
     "execution_count": 73,
     "metadata": {},
     "output_type": "execute_result"
    }
   ],
   "source": [
    "zak = pd.DataFrame(DL)\n",
    "zak"
   ]
  },
  {
   "cell_type": "code",
   "execution_count": 75,
   "metadata": {},
   "outputs": [],
   "source": [
    "zak.to_csv('data/2020-05-21_imformation-systems-development.csv', index=False)"
   ]
  }
 ],
 "metadata": {
  "kernelspec": {
   "display_name": "Python 3",
   "language": "python",
   "name": "python3"
  },
  "language_info": {
   "codemirror_mode": {
    "name": "ipython",
    "version": 3
   },
   "file_extension": ".py",
   "mimetype": "text/x-python",
   "name": "python",
   "nbconvert_exporter": "python",
   "pygments_lexer": "ipython3",
   "version": "3.7.4"
  }
 },
 "nbformat": 4,
 "nbformat_minor": 2
}
