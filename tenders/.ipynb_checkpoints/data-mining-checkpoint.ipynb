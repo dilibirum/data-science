{
 "cells": [
  {
   "cell_type": "markdown",
   "metadata": {},
   "source": [
    "# Сбор данных для анализа тендеров"
   ]
  },
  {
   "cell_type": "markdown",
   "metadata": {},
   "source": [
    "Источник: [https://zakupki.gov.ru](https://zakupki.gov.ru/epz/main/public/home.html)"
   ]
  },
  {
   "cell_type": "markdown",
   "metadata": {},
   "source": [
    "### Импорт библиотек"
   ]
  },
  {
   "cell_type": "code",
   "execution_count": 4,
   "metadata": {},
   "outputs": [],
   "source": [
    "# библиотеки для работы с HTML\n",
    "import requests\n",
    "import selenium\n",
    "from selenium import webdriver\n",
    "from bs4 import BeautifulSoup\n",
    "\n",
    "# библиотеки для предобработки и анализа данных \n",
    "import pandas as pd\n",
    "\n",
    "# библиотеки для работы в jupyter notebook\n",
    "import warnings\n",
    "warnings.filterwarnings(action='once')  # показывает предупреждения один раз\n",
    "warnings.filterwarnings('ignore')"
   ]
  },
  {
   "cell_type": "markdown",
   "metadata": {},
   "source": [
    "###### Читаем страницу"
   ]
  },
  {
   "cell_type": "code",
   "execution_count": 5,
   "metadata": {},
   "outputs": [],
   "source": [
    "URL = 'https://zakupki.gov.ru/epz/order/extendedsearch/rss.html?searchString=разработка+программного+обеспечения&morphology=on'"
   ]
  },
  {
   "cell_type": "markdown",
   "metadata": {},
   "source": [
    "###### Создаем драйвер для браузера"
   ]
  },
  {
   "cell_type": "code",
   "execution_count": 9,
   "metadata": {},
   "outputs": [],
   "source": [
    "# https://chromedriver.chromium.org/downloads\n",
    "\n",
    "options = webdriver.ChromeOptions()\n",
    "options.binary_location = '/Applications/Yandex.app/Contents/MacOS/Yandex'\n",
    "\n",
    "webdriver_address = '../../drivers/chromedriver'"
   ]
  },
  {
   "cell_type": "markdown",
   "metadata": {},
   "source": [
    "###### Тестируем подключение"
   ]
  },
  {
   "cell_type": "code",
   "execution_count": 10,
   "metadata": {},
   "outputs": [],
   "source": [
    "driver = webdriver.Chrome(webdriver_address, options=options)\n",
    "driver.get(URL)"
   ]
  },
  {
   "cell_type": "code",
   "execution_count": 91,
   "metadata": {},
   "outputs": [],
   "source": [
    "html = driver.page_source"
   ]
  },
  {
   "cell_type": "code",
   "execution_count": 92,
   "metadata": {},
   "outputs": [],
   "source": [
    "html = html.replace('&lt;', '<') \\\n",
    "           .replace('&gt;', '>') \\\n",
    "           .replace('&ndash;', '–') \\\n",
    "           .replace('&amp;', '&') "
   ]
  },
  {
   "cell_type": "code",
   "execution_count": 93,
   "metadata": {},
   "outputs": [],
   "source": [
    "with open('data/2020-05-20_zakupki.txt', 'w', encoding='utf-8') as f:\n",
    "    f.write(html)"
   ]
  },
  {
   "cell_type": "code",
   "execution_count": 94,
   "metadata": {},
   "outputs": [],
   "source": [
    "with open('data/2020-05-20_zakupki.txt', 'r', encoding='utf-8') as f:\n",
    "    h = f.read()"
   ]
  },
  {
   "cell_type": "code",
   "execution_count": 95,
   "metadata": {},
   "outputs": [],
   "source": [
    "soup = BeautifulSoup(h, 'lxml')"
   ]
  },
  {
   "cell_type": "code",
   "execution_count": 96,
   "metadata": {},
   "outputs": [],
   "source": [
    "items = soup.find_all('item')"
   ]
  },
  {
   "cell_type": "code",
   "execution_count": 97,
   "metadata": {},
   "outputs": [],
   "source": [
    "list_of_dicts = []"
   ]
  },
  {
   "cell_type": "code",
   "execution_count": 98,
   "metadata": {},
   "outputs": [],
   "source": [
    "item_dict = dict(\n",
    "                 title='',\n",
    "                 description='',   \n",
    "                 price='',\n",
    "                 date='',\n",
    "                 law='',\n",
    "                 author='',\n",
    "                 status='',\n",
    "                 link='',\n",
    "                 query='',   \n",
    "                 )"
   ]
  },
  {
   "cell_type": "code",
   "execution_count": 99,
   "metadata": {},
   "outputs": [
    {
     "data": {
      "text/plain": [
       "{'title': '',\n",
       " 'description': '',\n",
       " 'price': '',\n",
       " 'date': '',\n",
       " 'law': '',\n",
       " 'author': '',\n",
       " 'status': '',\n",
       " 'link': '',\n",
       " 'query': ''}"
      ]
     },
     "execution_count": 99,
     "metadata": {},
     "output_type": "execute_result"
    }
   ],
   "source": [
    "item_dict"
   ]
  },
  {
   "cell_type": "code",
   "execution_count": 100,
   "metadata": {},
   "outputs": [
    {
     "data": {
      "text/plain": [
       "<item>\n",
       "<title>Прочие №32009143442</title>\n",
       "<link/>https://zakupki.gov.ru/223/purchase/public/purchase/info/common-info.html?regNumber=32009143442\n",
       "      <description><b>Параметры поиска: </b><br/><strong>Искомое слово (словосочетание): </strong>разработка программного обеспечения<br/><strong>Закупки по: </strong>223-ФЗ и 44-ФЗ<br/><strong>Этап закупки: </strong>Подача заявок, Работа комиссии, Закупка завершена, Закупка отменена<br/><br/><strong>Найденный результат:</strong><br/><strong>Прочие</strong> <a href=\"https://zakupki.gov.ru/223/purchase/public/purchase/info/common-info.html?regNumber=32009143442\" target=\"_blank\"><strong>№ </strong><strong>32009143442</strong></a><br/><strong>Наименование объекта закупки: </strong>Услуги по разработке программного обеспечения ПТК СПВБ для обеспечения размещения ОФЗ и ОБР на новой ИТ-платформе АО СПВБ<br/><strong>Размещение выполняется по: </strong>223-ФЗ<br/><strong>Наименование Заказчика: </strong>АКЦИОНЕРНОЕ ОБЩЕСТВО \"САНКТ-ПЕТЕРБУРГСКАЯ ВАЛЮТНАЯ БИРЖА\"<br/><strong>Начальная цена контракта: </strong>186575000.00<strong> Валюта: </strong>Российский рубль<br/><strong>Размещено: </strong>12.05.2020<br/><strong>Обновлено: </strong>19.05.2020<br/><strong>Этап размещения: </strong>Подача заявок<br/><strong>Идентификационный код закупки (ИКЗ): </strong><br/></description>\n",
       "<pubdate>Tue, 12 May 2020 20:54:22 GMT</pubdate>\n",
       "<author>АКЦИОНЕРНОЕ ОБЩЕСТВО \"САНКТ-ПЕТЕРБУРГСКАЯ ВАЛЮТНАЯ БИРЖА\"</author>\n",
       "</item>"
      ]
     },
     "execution_count": 100,
     "metadata": {},
     "output_type": "execute_result"
    }
   ],
   "source": [
    "items[1]"
   ]
  },
  {
   "cell_type": "markdown",
   "metadata": {},
   "source": []
  },
  {
   "cell_type": "code",
   "execution_count": 101,
   "metadata": {},
   "outputs": [],
   "source": [
    "item_dict['title'] = items[0].find('title').text"
   ]
  },
  {
   "cell_type": "code",
   "execution_count": 108,
   "metadata": {},
   "outputs": [],
   "source": [
    "item_dict['date'] = items[0].find('pubdate').text"
   ]
  },
  {
   "cell_type": "code",
   "execution_count": 102,
   "metadata": {},
   "outputs": [],
   "source": [
    "item_dict['link'] = items[0].find('a')['href']"
   ]
  },
  {
   "cell_type": "code",
   "execution_count": 109,
   "metadata": {},
   "outputs": [
    {
     "data": {
      "text/plain": [
       "{'title': 'Прочие №32009165595',\n",
       " 'description': '',\n",
       " 'price': '',\n",
       " 'date': 'Wed, 20 May 2020 11:33:24 GMT',\n",
       " 'law': '',\n",
       " 'author': '',\n",
       " 'status': '',\n",
       " 'link': 'https://zakupki.gov.ru/223/purchase/public/purchase/info/common-info.html?regNumber=32009165595',\n",
       " 'query': ''}"
      ]
     },
     "execution_count": 109,
     "metadata": {},
     "output_type": "execute_result"
    }
   ],
   "source": [
    "item_dict"
   ]
  }
 ],
 "metadata": {
  "kernelspec": {
   "display_name": "Python 3",
   "language": "python",
   "name": "python3"
  },
  "language_info": {
   "codemirror_mode": {
    "name": "ipython",
    "version": 3
   },
   "file_extension": ".py",
   "mimetype": "text/x-python",
   "name": "python",
   "nbconvert_exporter": "python",
   "pygments_lexer": "ipython3",
   "version": "3.7.4"
  }
 },
 "nbformat": 4,
 "nbformat_minor": 2
}
