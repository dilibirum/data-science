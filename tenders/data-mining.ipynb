{
 "cells": [
  {
   "cell_type": "markdown",
   "metadata": {},
   "source": [
    "# Сбор данных для анализа тендеров"
   ]
  },
  {
   "cell_type": "markdown",
   "metadata": {},
   "source": [
    "Источник: [https://zakupki.gov.ru](https://zakupki.gov.ru/epz/main/public/home.html)"
   ]
  },
  {
   "cell_type": "markdown",
   "metadata": {},
   "source": [
    "### Импорт библиотек"
   ]
  },
  {
   "cell_type": "code",
   "execution_count": 226,
   "metadata": {},
   "outputs": [],
   "source": [
    "# библиотеки для работы с HTML\n",
    "import requests\n",
    "import selenium\n",
    "from selenium import webdriver\n",
    "from bs4 import BeautifulSoup\n",
    "\n",
    "# библиотеки для предобработки и анализа данных \n",
    "import pandas as pd\n",
    "\n",
    "# библиотеки для работы в jupyter notebook\n",
    "import warnings\n",
    "warnings.filterwarnings(action='once')  # показывает предупреждения один раз\n",
    "warnings.filterwarnings('ignore')"
   ]
  },
  {
   "cell_type": "code",
   "execution_count": 240,
   "metadata": {},
   "outputs": [],
   "source": [
    "s = '16568666,6764453'"
   ]
  },
  {
   "cell_type": "code",
   "execution_count": 241,
   "metadata": {},
   "outputs": [
    {
     "data": {
      "text/plain": [
       "16568666.6764453"
      ]
     },
     "execution_count": 241,
     "metadata": {},
     "output_type": "execute_result"
    }
   ],
   "source": [
    "to_float(s)"
   ]
  },
  {
   "cell_type": "code",
   "execution_count": 238,
   "metadata": {},
   "outputs": [],
   "source": [
    "def to_float(string):\n",
    "    numbers = string.split(',')\n",
    "    integer = int(numbers[0])\n",
    "    fractional = int(numbers[1])\n",
    "    return integer + fractional / 10 ** len(numbers[1])"
   ]
  },
  {
   "cell_type": "markdown",
   "metadata": {},
   "source": [
    "###### Читаем страницу"
   ]
  },
  {
   "cell_type": "code",
   "execution_count": 5,
   "metadata": {},
   "outputs": [],
   "source": [
    "URL = 'https://zakupki.gov.ru/epz/order/extendedsearch/rss.html?searchString=разработка+программного+обеспечения&morphology=on'"
   ]
  },
  {
   "cell_type": "markdown",
   "metadata": {},
   "source": [
    "###### Создаем драйвер для браузера"
   ]
  },
  {
   "cell_type": "code",
   "execution_count": 205,
   "metadata": {},
   "outputs": [],
   "source": [
    "# https://chromedriver.chromium.org/downloads\n",
    "\n",
    "options = webdriver.ChromeOptions()\n",
    "options.binary_location = '/Applications/Yandex.app/Contents/MacOS/Yandex'\n",
    "\n",
    "webdriver_address = '../../drivers/chromedriver'"
   ]
  },
  {
   "cell_type": "markdown",
   "metadata": {},
   "source": [
    "###### Тестируем подключение"
   ]
  },
  {
   "cell_type": "code",
   "execution_count": 207,
   "metadata": {},
   "outputs": [
    {
     "ename": "SessionNotCreatedException",
     "evalue": "Message: session not created: This version of ChromeDriver only supports Chrome version 79\n",
     "output_type": "error",
     "traceback": [
      "\u001b[0;31m---------------------------------------------------------------------------\u001b[0m",
      "\u001b[0;31mSessionNotCreatedException\u001b[0m                Traceback (most recent call last)",
      "\u001b[0;32m<ipython-input-207-34b8ff46dee3>\u001b[0m in \u001b[0;36m<module>\u001b[0;34m\u001b[0m\n\u001b[0;32m----> 1\u001b[0;31m \u001b[0mdriver\u001b[0m \u001b[0;34m=\u001b[0m \u001b[0mwebdriver\u001b[0m\u001b[0;34m.\u001b[0m\u001b[0mChrome\u001b[0m\u001b[0;34m(\u001b[0m\u001b[0mwebdriver_address\u001b[0m\u001b[0;34m,\u001b[0m \u001b[0moptions\u001b[0m\u001b[0;34m=\u001b[0m\u001b[0moptions\u001b[0m\u001b[0;34m)\u001b[0m\u001b[0;34m\u001b[0m\u001b[0;34m\u001b[0m\u001b[0m\n\u001b[0m\u001b[1;32m      2\u001b[0m \u001b[0mdriver\u001b[0m\u001b[0;34m.\u001b[0m\u001b[0mget\u001b[0m\u001b[0;34m(\u001b[0m\u001b[0mURL\u001b[0m\u001b[0;34m)\u001b[0m\u001b[0;34m\u001b[0m\u001b[0;34m\u001b[0m\u001b[0m\n",
      "\u001b[0;32m/Library/Frameworks/Python.framework/Versions/3.7/lib/python3.7/site-packages/selenium/webdriver/chrome/webdriver.py\u001b[0m in \u001b[0;36m__init__\u001b[0;34m(self, executable_path, port, options, service_args, desired_capabilities, service_log_path, chrome_options, keep_alive)\u001b[0m\n\u001b[1;32m     79\u001b[0m                     \u001b[0mremote_server_addr\u001b[0m\u001b[0;34m=\u001b[0m\u001b[0mself\u001b[0m\u001b[0;34m.\u001b[0m\u001b[0mservice\u001b[0m\u001b[0;34m.\u001b[0m\u001b[0mservice_url\u001b[0m\u001b[0;34m,\u001b[0m\u001b[0;34m\u001b[0m\u001b[0;34m\u001b[0m\u001b[0m\n\u001b[1;32m     80\u001b[0m                     keep_alive=keep_alive),\n\u001b[0;32m---> 81\u001b[0;31m                 desired_capabilities=desired_capabilities)\n\u001b[0m\u001b[1;32m     82\u001b[0m         \u001b[0;32mexcept\u001b[0m \u001b[0mException\u001b[0m\u001b[0;34m:\u001b[0m\u001b[0;34m\u001b[0m\u001b[0;34m\u001b[0m\u001b[0m\n\u001b[1;32m     83\u001b[0m             \u001b[0mself\u001b[0m\u001b[0;34m.\u001b[0m\u001b[0mquit\u001b[0m\u001b[0;34m(\u001b[0m\u001b[0;34m)\u001b[0m\u001b[0;34m\u001b[0m\u001b[0;34m\u001b[0m\u001b[0m\n",
      "\u001b[0;32m/Library/Frameworks/Python.framework/Versions/3.7/lib/python3.7/site-packages/selenium/webdriver/remote/webdriver.py\u001b[0m in \u001b[0;36m__init__\u001b[0;34m(self, command_executor, desired_capabilities, browser_profile, proxy, keep_alive, file_detector, options)\u001b[0m\n\u001b[1;32m    155\u001b[0m             warnings.warn(\"Please use FirefoxOptions to set browser profile\",\n\u001b[1;32m    156\u001b[0m                           DeprecationWarning, stacklevel=2)\n\u001b[0;32m--> 157\u001b[0;31m         \u001b[0mself\u001b[0m\u001b[0;34m.\u001b[0m\u001b[0mstart_session\u001b[0m\u001b[0;34m(\u001b[0m\u001b[0mcapabilities\u001b[0m\u001b[0;34m,\u001b[0m \u001b[0mbrowser_profile\u001b[0m\u001b[0;34m)\u001b[0m\u001b[0;34m\u001b[0m\u001b[0;34m\u001b[0m\u001b[0m\n\u001b[0m\u001b[1;32m    158\u001b[0m         \u001b[0mself\u001b[0m\u001b[0;34m.\u001b[0m\u001b[0m_switch_to\u001b[0m \u001b[0;34m=\u001b[0m \u001b[0mSwitchTo\u001b[0m\u001b[0;34m(\u001b[0m\u001b[0mself\u001b[0m\u001b[0;34m)\u001b[0m\u001b[0;34m\u001b[0m\u001b[0;34m\u001b[0m\u001b[0m\n\u001b[1;32m    159\u001b[0m         \u001b[0mself\u001b[0m\u001b[0;34m.\u001b[0m\u001b[0m_mobile\u001b[0m \u001b[0;34m=\u001b[0m \u001b[0mMobile\u001b[0m\u001b[0;34m(\u001b[0m\u001b[0mself\u001b[0m\u001b[0;34m)\u001b[0m\u001b[0;34m\u001b[0m\u001b[0;34m\u001b[0m\u001b[0m\n",
      "\u001b[0;32m/Library/Frameworks/Python.framework/Versions/3.7/lib/python3.7/site-packages/selenium/webdriver/remote/webdriver.py\u001b[0m in \u001b[0;36mstart_session\u001b[0;34m(self, capabilities, browser_profile)\u001b[0m\n\u001b[1;32m    250\u001b[0m         parameters = {\"capabilities\": w3c_caps,\n\u001b[1;32m    251\u001b[0m                       \"desiredCapabilities\": capabilities}\n\u001b[0;32m--> 252\u001b[0;31m         \u001b[0mresponse\u001b[0m \u001b[0;34m=\u001b[0m \u001b[0mself\u001b[0m\u001b[0;34m.\u001b[0m\u001b[0mexecute\u001b[0m\u001b[0;34m(\u001b[0m\u001b[0mCommand\u001b[0m\u001b[0;34m.\u001b[0m\u001b[0mNEW_SESSION\u001b[0m\u001b[0;34m,\u001b[0m \u001b[0mparameters\u001b[0m\u001b[0;34m)\u001b[0m\u001b[0;34m\u001b[0m\u001b[0;34m\u001b[0m\u001b[0m\n\u001b[0m\u001b[1;32m    253\u001b[0m         \u001b[0;32mif\u001b[0m \u001b[0;34m'sessionId'\u001b[0m \u001b[0;32mnot\u001b[0m \u001b[0;32min\u001b[0m \u001b[0mresponse\u001b[0m\u001b[0;34m:\u001b[0m\u001b[0;34m\u001b[0m\u001b[0;34m\u001b[0m\u001b[0m\n\u001b[1;32m    254\u001b[0m             \u001b[0mresponse\u001b[0m \u001b[0;34m=\u001b[0m \u001b[0mresponse\u001b[0m\u001b[0;34m[\u001b[0m\u001b[0;34m'value'\u001b[0m\u001b[0;34m]\u001b[0m\u001b[0;34m\u001b[0m\u001b[0;34m\u001b[0m\u001b[0m\n",
      "\u001b[0;32m/Library/Frameworks/Python.framework/Versions/3.7/lib/python3.7/site-packages/selenium/webdriver/remote/webdriver.py\u001b[0m in \u001b[0;36mexecute\u001b[0;34m(self, driver_command, params)\u001b[0m\n\u001b[1;32m    319\u001b[0m         \u001b[0mresponse\u001b[0m \u001b[0;34m=\u001b[0m \u001b[0mself\u001b[0m\u001b[0;34m.\u001b[0m\u001b[0mcommand_executor\u001b[0m\u001b[0;34m.\u001b[0m\u001b[0mexecute\u001b[0m\u001b[0;34m(\u001b[0m\u001b[0mdriver_command\u001b[0m\u001b[0;34m,\u001b[0m \u001b[0mparams\u001b[0m\u001b[0;34m)\u001b[0m\u001b[0;34m\u001b[0m\u001b[0;34m\u001b[0m\u001b[0m\n\u001b[1;32m    320\u001b[0m         \u001b[0;32mif\u001b[0m \u001b[0mresponse\u001b[0m\u001b[0;34m:\u001b[0m\u001b[0;34m\u001b[0m\u001b[0;34m\u001b[0m\u001b[0m\n\u001b[0;32m--> 321\u001b[0;31m             \u001b[0mself\u001b[0m\u001b[0;34m.\u001b[0m\u001b[0merror_handler\u001b[0m\u001b[0;34m.\u001b[0m\u001b[0mcheck_response\u001b[0m\u001b[0;34m(\u001b[0m\u001b[0mresponse\u001b[0m\u001b[0;34m)\u001b[0m\u001b[0;34m\u001b[0m\u001b[0;34m\u001b[0m\u001b[0m\n\u001b[0m\u001b[1;32m    322\u001b[0m             response['value'] = self._unwrap_value(\n\u001b[1;32m    323\u001b[0m                 response.get('value', None))\n",
      "\u001b[0;32m/Library/Frameworks/Python.framework/Versions/3.7/lib/python3.7/site-packages/selenium/webdriver/remote/errorhandler.py\u001b[0m in \u001b[0;36mcheck_response\u001b[0;34m(self, response)\u001b[0m\n\u001b[1;32m    240\u001b[0m                 \u001b[0malert_text\u001b[0m \u001b[0;34m=\u001b[0m \u001b[0mvalue\u001b[0m\u001b[0;34m[\u001b[0m\u001b[0;34m'alert'\u001b[0m\u001b[0;34m]\u001b[0m\u001b[0;34m.\u001b[0m\u001b[0mget\u001b[0m\u001b[0;34m(\u001b[0m\u001b[0;34m'text'\u001b[0m\u001b[0;34m)\u001b[0m\u001b[0;34m\u001b[0m\u001b[0;34m\u001b[0m\u001b[0m\n\u001b[1;32m    241\u001b[0m             \u001b[0;32mraise\u001b[0m \u001b[0mexception_class\u001b[0m\u001b[0;34m(\u001b[0m\u001b[0mmessage\u001b[0m\u001b[0;34m,\u001b[0m \u001b[0mscreen\u001b[0m\u001b[0;34m,\u001b[0m \u001b[0mstacktrace\u001b[0m\u001b[0;34m,\u001b[0m \u001b[0malert_text\u001b[0m\u001b[0;34m)\u001b[0m\u001b[0;34m\u001b[0m\u001b[0;34m\u001b[0m\u001b[0m\n\u001b[0;32m--> 242\u001b[0;31m         \u001b[0;32mraise\u001b[0m \u001b[0mexception_class\u001b[0m\u001b[0;34m(\u001b[0m\u001b[0mmessage\u001b[0m\u001b[0;34m,\u001b[0m \u001b[0mscreen\u001b[0m\u001b[0;34m,\u001b[0m \u001b[0mstacktrace\u001b[0m\u001b[0;34m)\u001b[0m\u001b[0;34m\u001b[0m\u001b[0;34m\u001b[0m\u001b[0m\n\u001b[0m\u001b[1;32m    243\u001b[0m \u001b[0;34m\u001b[0m\u001b[0m\n\u001b[1;32m    244\u001b[0m     \u001b[0;32mdef\u001b[0m \u001b[0m_value_or_default\u001b[0m\u001b[0;34m(\u001b[0m\u001b[0mself\u001b[0m\u001b[0;34m,\u001b[0m \u001b[0mobj\u001b[0m\u001b[0;34m,\u001b[0m \u001b[0mkey\u001b[0m\u001b[0;34m,\u001b[0m \u001b[0mdefault\u001b[0m\u001b[0;34m)\u001b[0m\u001b[0;34m:\u001b[0m\u001b[0;34m\u001b[0m\u001b[0;34m\u001b[0m\u001b[0m\n",
      "\u001b[0;31mSessionNotCreatedException\u001b[0m: Message: session not created: This version of ChromeDriver only supports Chrome version 79\n"
     ]
    }
   ],
   "source": [
    "driver = webdriver.Chrome(webdriver_address, options=options)\n",
    "driver.get(URL)"
   ]
  },
  {
   "cell_type": "code",
   "execution_count": 198,
   "metadata": {},
   "outputs": [],
   "source": [
    "html = driver.page_source"
   ]
  },
  {
   "cell_type": "code",
   "execution_count": 199,
   "metadata": {},
   "outputs": [],
   "source": [
    "html = html.replace('&lt;', '<') \\\n",
    "           .replace('&gt;', '>') \\\n",
    "           .replace('&ndash;', '–') \\\n",
    "           .replace('&amp;', '&') "
   ]
  },
  {
   "cell_type": "code",
   "execution_count": 210,
   "metadata": {},
   "outputs": [],
   "source": [
    "soup = BeautifulSoup(html, 'lxml')"
   ]
  },
  {
   "cell_type": "code",
   "execution_count": 211,
   "metadata": {},
   "outputs": [],
   "source": [
    "items = soup.find_all('item')"
   ]
  },
  {
   "cell_type": "code",
   "execution_count": 212,
   "metadata": {},
   "outputs": [],
   "source": [
    "with open('data/2020-05-20_zakupki.txt', 'w', encoding='utf-8') as f:\n",
    "    f.write(str(items))"
   ]
  },
  {
   "cell_type": "code",
   "execution_count": 213,
   "metadata": {},
   "outputs": [],
   "source": [
    "with open('data/2020-05-20_zakupki.txt', 'r', encoding='utf-8') as f:\n",
    "    h = f.read()"
   ]
  },
  {
   "cell_type": "code",
   "execution_count": 214,
   "metadata": {},
   "outputs": [],
   "source": [
    "soup = BeautifulSoup(h, 'lxml')"
   ]
  },
  {
   "cell_type": "code",
   "execution_count": 215,
   "metadata": {},
   "outputs": [],
   "source": [
    "items = soup.find_all('item')"
   ]
  },
  {
   "cell_type": "code",
   "execution_count": 216,
   "metadata": {},
   "outputs": [],
   "source": [
    "list_of_dicts = []"
   ]
  },
  {
   "cell_type": "code",
   "execution_count": 217,
   "metadata": {},
   "outputs": [],
   "source": [
    "item_dict = dict(\n",
    "                 title='',\n",
    "                 description='',   \n",
    "                 price='',\n",
    "                 date='',\n",
    "                 law='',\n",
    "                 author='',\n",
    "                 status='',\n",
    "                 link='',\n",
    "                 query='',   \n",
    "                 )"
   ]
  },
  {
   "cell_type": "code",
   "execution_count": 218,
   "metadata": {},
   "outputs": [
    {
     "data": {
      "text/plain": [
       "{'title': '',\n",
       " 'description': '',\n",
       " 'price': '',\n",
       " 'date': '',\n",
       " 'law': '',\n",
       " 'author': '',\n",
       " 'status': '',\n",
       " 'link': '',\n",
       " 'query': ''}"
      ]
     },
     "execution_count": 218,
     "metadata": {},
     "output_type": "execute_result"
    }
   ],
   "source": [
    "item_dict"
   ]
  },
  {
   "cell_type": "code",
   "execution_count": 219,
   "metadata": {},
   "outputs": [
    {
     "data": {
      "text/plain": [
       "<item>\n",
       "<title>Прочие №32009143442</title>\n",
       "<link/>https://zakupki.gov.ru/223/purchase/public/purchase/info/common-info.html?regNumber=32009143442\n",
       "      <description><b>Параметры поиска: </b><br/><strong>Искомое слово (словосочетание): </strong>разработка программного обеспечения<br/><strong>Закупки по: </strong>223-ФЗ и 44-ФЗ<br/><strong>Этап закупки: </strong>Подача заявок, Работа комиссии, Закупка завершена, Закупка отменена<br/><br/><strong>Найденный результат:</strong><br/><strong>Прочие</strong> <a href=\"https://zakupki.gov.ru/223/purchase/public/purchase/info/common-info.html?regNumber=32009143442\" target=\"_blank\"><strong>№ </strong><strong>32009143442</strong></a><br/><strong>Наименование объекта закупки: </strong>Услуги по разработке программного обеспечения ПТК СПВБ для обеспечения размещения ОФЗ и ОБР на новой ИТ-платформе АО СПВБ<br/><strong>Размещение выполняется по: </strong>223-ФЗ<br/><strong>Наименование Заказчика: </strong>АКЦИОНЕРНОЕ ОБЩЕСТВО \"САНКТ-ПЕТЕРБУРГСКАЯ ВАЛЮТНАЯ БИРЖА\"<br/><strong>Начальная цена контракта: </strong>186575000.00<strong> Валюта: </strong>Российский рубль<br/><strong>Размещено: </strong>12.05.2020<br/><strong>Обновлено: </strong>19.05.2020<br/><strong>Этап размещения: </strong>Подача заявок<br/><strong>Идентификационный код закупки (ИКЗ): </strong><br/></description>\n",
       "<pubdate>Tue, 12 May 2020 20:54:22 GMT</pubdate>\n",
       "<author>АКЦИОНЕРНОЕ ОБЩЕСТВО \"САНКТ-ПЕТЕРБУРГСКАЯ ВАЛЮТНАЯ БИРЖА\"</author>\n",
       "</item>"
      ]
     },
     "execution_count": 219,
     "metadata": {},
     "output_type": "execute_result"
    }
   ],
   "source": [
    "items[1]"
   ]
  },
  {
   "cell_type": "code",
   "execution_count": 220,
   "metadata": {},
   "outputs": [],
   "source": [
    "def find(string, start, end):\n",
    "    i = string.find(start) + len(start)\n",
    "    j = string.find(end)\n",
    "    return string[i:j].strip()"
   ]
  },
  {
   "cell_type": "code",
   "execution_count": 221,
   "metadata": {},
   "outputs": [],
   "source": [
    "for item in items:\n",
    "    if item.text != '':\n",
    "        __dict = dict()\n",
    "        __dict['title'] = item.find('title').text\n",
    "        __dict['description'] = find(item.find('description').text,\n",
    "                                                  'Наименование объекта закупки:',\n",
    "                                                  'Размещение выполняется по:',\n",
    "                                                  )\n",
    "        __dict['price'] = find(item.find('description').text,\n",
    "                                                'Начальная цена контракта:',\n",
    "                                                'Валюта:',\n",
    "                                                )\n",
    "        __dict['date'] = item.find('pubdate').text\n",
    "        __dict['law'] = find(item.find('description').text,\n",
    "                                          'Размещение выполняется по: ',\n",
    "                                          'Наименование Заказчика:',\n",
    "                                          )\n",
    "        __dict['author'] = item.find('author').text\n",
    "        __dict['status'] = find(item.find('description').text,\n",
    "                                             'Этап размещения: ',\n",
    "                                             'Идентификационный код закупки',\n",
    "                                             )\n",
    "        __dict['link'] = item.find('a')['href']\n",
    "        __dict['query'] = find(item.find('description').text,\n",
    "                                                  'Искомое слово (словосочетание):',\n",
    "                                                  'Закупки по:',\n",
    "                                                  )\n",
    "        list_of_dicts.append(__dict)"
   ]
  },
  {
   "cell_type": "code",
   "execution_count": 222,
   "metadata": {},
   "outputs": [
    {
     "data": {
      "text/plain": [
       "200"
      ]
     },
     "execution_count": 222,
     "metadata": {},
     "output_type": "execute_result"
    }
   ],
   "source": [
    "len(list_of_dicts)"
   ]
  },
  {
   "cell_type": "code",
   "execution_count": 225,
   "metadata": {},
   "outputs": [
    {
     "data": {
      "text/html": [
       "<div>\n",
       "<style scoped>\n",
       "    .dataframe tbody tr th:only-of-type {\n",
       "        vertical-align: middle;\n",
       "    }\n",
       "\n",
       "    .dataframe tbody tr th {\n",
       "        vertical-align: top;\n",
       "    }\n",
       "\n",
       "    .dataframe thead th {\n",
       "        text-align: right;\n",
       "    }\n",
       "</style>\n",
       "<table border=\"1\" class=\"dataframe\">\n",
       "  <thead>\n",
       "    <tr style=\"text-align: right;\">\n",
       "      <th></th>\n",
       "      <th>title</th>\n",
       "      <th>description</th>\n",
       "      <th>price</th>\n",
       "      <th>date</th>\n",
       "      <th>law</th>\n",
       "      <th>author</th>\n",
       "      <th>status</th>\n",
       "      <th>link</th>\n",
       "      <th>query</th>\n",
       "    </tr>\n",
       "  </thead>\n",
       "  <tbody>\n",
       "    <tr>\n",
       "      <th>0</th>\n",
       "      <td>Прочие №32009165595</td>\n",
       "      <td>ЗП – 81028028 (Выполнение работ по разработке ...</td>\n",
       "      <td>Многолотовый заказРазмещено: 20.05.2020Обновле...</td>\n",
       "      <td>Wed, 20 May 2020 11:33:24 GMT</td>\n",
       "      <td>223-ФЗ</td>\n",
       "      <td>ПУБЛИЧНОЕ АКЦИОНЕРНОЕ ОБЩЕСТВО \"СБЕРБАНК РОССИИ\"</td>\n",
       "      <td>Подача заявок</td>\n",
       "      <td>https://zakupki.gov.ru/223/purchase/public/pur...</td>\n",
       "      <td>разработка программного обеспечения</td>\n",
       "    </tr>\n",
       "    <tr>\n",
       "      <th>1</th>\n",
       "      <td>Прочие №32009143442</td>\n",
       "      <td>Услуги по разработке программного обеспечения ...</td>\n",
       "      <td>186575000.00</td>\n",
       "      <td>Tue, 12 May 2020 20:54:22 GMT</td>\n",
       "      <td>223-ФЗ</td>\n",
       "      <td>АКЦИОНЕРНОЕ ОБЩЕСТВО \"САНКТ-ПЕТЕРБУРГСКАЯ ВАЛЮ...</td>\n",
       "      <td>Подача заявок</td>\n",
       "      <td>https://zakupki.gov.ru/223/purchase/public/pur...</td>\n",
       "      <td>разработка программного обеспечения</td>\n",
       "    </tr>\n",
       "    <tr>\n",
       "      <th>2</th>\n",
       "      <td>Прочие №32009133042</td>\n",
       "      <td>Оказание услуг, по выполнению составной части ...</td>\n",
       "      <td>2000000.00</td>\n",
       "      <td>Wed, 06 May 2020 18:02:25 GMT</td>\n",
       "      <td>223-ФЗ</td>\n",
       "      <td>ФЕДЕРАЛЬНОЕ ГОСУДАРСТВЕННОЕ БЮДЖЕТНОЕ ОБРАЗОВА...</td>\n",
       "      <td>Закупка завершена</td>\n",
       "      <td>https://zakupki.gov.ru/223/purchase/public/pur...</td>\n",
       "      <td>разработка программного обеспечения</td>\n",
       "    </tr>\n",
       "    <tr>\n",
       "      <th>3</th>\n",
       "      <td>Прочие №32009031986</td>\n",
       "      <td>Право на заключение Договора на оказание услуг...</td>\n",
       "      <td>98474400.00</td>\n",
       "      <td>Wed, 25 Mar 2020 14:37:01 GMT</td>\n",
       "      <td>223-ФЗ</td>\n",
       "      <td>ПУБЛИЧНОЕ АКЦИОНЕРНОЕ ОБЩЕСТВО \"МЕЖРЕГИОНАЛЬНА...</td>\n",
       "      <td>Работа комиссии</td>\n",
       "      <td>https://zakupki.gov.ru/223/purchase/public/pur...</td>\n",
       "      <td>разработка программного обеспечения</td>\n",
       "    </tr>\n",
       "    <tr>\n",
       "      <th>4</th>\n",
       "      <td>Прочие №32009150538</td>\n",
       "      <td>Право заключения договора на Разработка и внед...</td>\n",
       "      <td>13450960.00</td>\n",
       "      <td>Thu, 14 May 2020 14:21:56 GMT</td>\n",
       "      <td>223-ФЗ</td>\n",
       "      <td>АКЦИОНЕРНОЕ ОБЩЕСТВО \"РОССИЙСКИЙ КОНЦЕРН ПО ПР...</td>\n",
       "      <td>Подача заявок</td>\n",
       "      <td>https://zakupki.gov.ru/223/purchase/public/pur...</td>\n",
       "      <td>разработка программного обеспечения</td>\n",
       "    </tr>\n",
       "    <tr>\n",
       "      <th>...</th>\n",
       "      <td>...</td>\n",
       "      <td>...</td>\n",
       "      <td>...</td>\n",
       "      <td>...</td>\n",
       "      <td>...</td>\n",
       "      <td>...</td>\n",
       "      <td>...</td>\n",
       "      <td>...</td>\n",
       "      <td>...</td>\n",
       "    </tr>\n",
       "    <tr>\n",
       "      <th>195</th>\n",
       "      <td>Электронный аукцион №0330300088120000001</td>\n",
       "      <td>Услуги по проектированию и разработке информац...</td>\n",
       "      <td>6260000.00</td>\n",
       "      <td>Fri, 17 Jan 2020 10:38:45 GMT</td>\n",
       "      <td>44-ФЗ</td>\n",
       "      <td>УПРАВЛЕНИЕ ОБРАЗОВАНИЯ МЭРИИ ГОРОДА ЧЕРЕПОВЦА</td>\n",
       "      <td>Определение поставщика отменено</td>\n",
       "      <td>/epz/order/notice/ea44/view/common-info.html?r...</td>\n",
       "      <td>разработка программного обеспечения</td>\n",
       "    </tr>\n",
       "    <tr>\n",
       "      <th>196</th>\n",
       "      <td>Конкурс в электронной форме, участниками котор...</td>\n",
       "      <td>ЗП - 81023947 ВЫПОЛНЕНИЕ РАБОТ ПО РАЗРАБОТКЕ И...</td>\n",
       "      <td>Многолотовый заказРазмещено: 30.12.2019Обновле...</td>\n",
       "      <td>Mon, 30 Dec 2019 09:26:17 GMT</td>\n",
       "      <td>223-ФЗ</td>\n",
       "      <td>ПУБЛИЧНОЕ АКЦИОНЕРНОЕ ОБЩЕСТВО \"СБЕРБАНК РОССИИ\"</td>\n",
       "      <td>Закупка завершена</td>\n",
       "      <td>https://zakupki.gov.ru/223/purchase/public/pur...</td>\n",
       "      <td>разработка программного обеспечения</td>\n",
       "    </tr>\n",
       "    <tr>\n",
       "      <th>197</th>\n",
       "      <td>Прочие №32008781814</td>\n",
       "      <td>Оказание услуг по сопровождению, информационно...</td>\n",
       "      <td>999516.09</td>\n",
       "      <td>Mon, 20 Jan 2020 14:33:33 GMT</td>\n",
       "      <td>223-ФЗ</td>\n",
       "      <td>ФЕДЕРАЛЬНОЕ ГОСУДАРСТВЕННОЕ БЮДЖЕТНОЕ УЧРЕЖДЕН...</td>\n",
       "      <td>Закупка завершена</td>\n",
       "      <td>https://zakupki.gov.ru/223/purchase/public/pur...</td>\n",
       "      <td>разработка программного обеспечения</td>\n",
       "    </tr>\n",
       "    <tr>\n",
       "      <th>198</th>\n",
       "      <td>Прочие №32008781485</td>\n",
       "      <td>Разработка  электронных сервисов и настройка п...</td>\n",
       "      <td>102000.00</td>\n",
       "      <td>Mon, 20 Jan 2020 13:35:51 GMT</td>\n",
       "      <td>223-ФЗ</td>\n",
       "      <td>ФЕДЕРАЛЬНОЕ ГОСУДАРСТВЕННОЕ БЮДЖЕТНОЕ ОБРАЗОВА...</td>\n",
       "      <td>Закупка завершена</td>\n",
       "      <td>https://zakupki.gov.ru/223/purchase/public/pur...</td>\n",
       "      <td>разработка программного обеспечения</td>\n",
       "    </tr>\n",
       "    <tr>\n",
       "      <th>199</th>\n",
       "      <td>Аукцион в электронной форме, участниками котор...</td>\n",
       "      <td>Открытый аукцион в электронной форме участника...</td>\n",
       "      <td>8124000.00</td>\n",
       "      <td>Mon, 30 Dec 2019 14:20:02 GMT</td>\n",
       "      <td>223-ФЗ</td>\n",
       "      <td>АКЦИОНЕРНОЕ ОБЩЕСТВО \"НАУЧНО-ИССЛЕДОВАТЕЛЬСКИЙ...</td>\n",
       "      <td>Закупка завершена</td>\n",
       "      <td>https://zakupki.gov.ru/223/purchase/public/pur...</td>\n",
       "      <td>разработка программного обеспечения</td>\n",
       "    </tr>\n",
       "  </tbody>\n",
       "</table>\n",
       "<p>200 rows × 9 columns</p>\n",
       "</div>"
      ],
      "text/plain": [
       "                                                 title  \\\n",
       "0                                  Прочие №32009165595   \n",
       "1                                  Прочие №32009143442   \n",
       "2                                  Прочие №32009133042   \n",
       "3                                  Прочие №32009031986   \n",
       "4                                  Прочие №32009150538   \n",
       "..                                                 ...   \n",
       "195           Электронный аукцион №0330300088120000001   \n",
       "196  Конкурс в электронной форме, участниками котор...   \n",
       "197                                Прочие №32008781814   \n",
       "198                                Прочие №32008781485   \n",
       "199  Аукцион в электронной форме, участниками котор...   \n",
       "\n",
       "                                           description  \\\n",
       "0    ЗП – 81028028 (Выполнение работ по разработке ...   \n",
       "1    Услуги по разработке программного обеспечения ...   \n",
       "2    Оказание услуг, по выполнению составной части ...   \n",
       "3    Право на заключение Договора на оказание услуг...   \n",
       "4    Право заключения договора на Разработка и внед...   \n",
       "..                                                 ...   \n",
       "195  Услуги по проектированию и разработке информац...   \n",
       "196  ЗП - 81023947 ВЫПОЛНЕНИЕ РАБОТ ПО РАЗРАБОТКЕ И...   \n",
       "197  Оказание услуг по сопровождению, информационно...   \n",
       "198  Разработка  электронных сервисов и настройка п...   \n",
       "199  Открытый аукцион в электронной форме участника...   \n",
       "\n",
       "                                                 price  \\\n",
       "0    Многолотовый заказРазмещено: 20.05.2020Обновле...   \n",
       "1                                         186575000.00   \n",
       "2                                           2000000.00   \n",
       "3                                          98474400.00   \n",
       "4                                          13450960.00   \n",
       "..                                                 ...   \n",
       "195                                         6260000.00   \n",
       "196  Многолотовый заказРазмещено: 30.12.2019Обновле...   \n",
       "197                                          999516.09   \n",
       "198                                          102000.00   \n",
       "199                                         8124000.00   \n",
       "\n",
       "                              date     law  \\\n",
       "0    Wed, 20 May 2020 11:33:24 GMT  223-ФЗ   \n",
       "1    Tue, 12 May 2020 20:54:22 GMT  223-ФЗ   \n",
       "2    Wed, 06 May 2020 18:02:25 GMT  223-ФЗ   \n",
       "3    Wed, 25 Mar 2020 14:37:01 GMT  223-ФЗ   \n",
       "4    Thu, 14 May 2020 14:21:56 GMT  223-ФЗ   \n",
       "..                             ...     ...   \n",
       "195  Fri, 17 Jan 2020 10:38:45 GMT   44-ФЗ   \n",
       "196  Mon, 30 Dec 2019 09:26:17 GMT  223-ФЗ   \n",
       "197  Mon, 20 Jan 2020 14:33:33 GMT  223-ФЗ   \n",
       "198  Mon, 20 Jan 2020 13:35:51 GMT  223-ФЗ   \n",
       "199  Mon, 30 Dec 2019 14:20:02 GMT  223-ФЗ   \n",
       "\n",
       "                                                author  \\\n",
       "0     ПУБЛИЧНОЕ АКЦИОНЕРНОЕ ОБЩЕСТВО \"СБЕРБАНК РОССИИ\"   \n",
       "1    АКЦИОНЕРНОЕ ОБЩЕСТВО \"САНКТ-ПЕТЕРБУРГСКАЯ ВАЛЮ...   \n",
       "2    ФЕДЕРАЛЬНОЕ ГОСУДАРСТВЕННОЕ БЮДЖЕТНОЕ ОБРАЗОВА...   \n",
       "3    ПУБЛИЧНОЕ АКЦИОНЕРНОЕ ОБЩЕСТВО \"МЕЖРЕГИОНАЛЬНА...   \n",
       "4    АКЦИОНЕРНОЕ ОБЩЕСТВО \"РОССИЙСКИЙ КОНЦЕРН ПО ПР...   \n",
       "..                                                 ...   \n",
       "195      УПРАВЛЕНИЕ ОБРАЗОВАНИЯ МЭРИИ ГОРОДА ЧЕРЕПОВЦА   \n",
       "196   ПУБЛИЧНОЕ АКЦИОНЕРНОЕ ОБЩЕСТВО \"СБЕРБАНК РОССИИ\"   \n",
       "197  ФЕДЕРАЛЬНОЕ ГОСУДАРСТВЕННОЕ БЮДЖЕТНОЕ УЧРЕЖДЕН...   \n",
       "198  ФЕДЕРАЛЬНОЕ ГОСУДАРСТВЕННОЕ БЮДЖЕТНОЕ ОБРАЗОВА...   \n",
       "199  АКЦИОНЕРНОЕ ОБЩЕСТВО \"НАУЧНО-ИССЛЕДОВАТЕЛЬСКИЙ...   \n",
       "\n",
       "                              status  \\\n",
       "0                      Подача заявок   \n",
       "1                      Подача заявок   \n",
       "2                  Закупка завершена   \n",
       "3                    Работа комиссии   \n",
       "4                      Подача заявок   \n",
       "..                               ...   \n",
       "195  Определение поставщика отменено   \n",
       "196                Закупка завершена   \n",
       "197                Закупка завершена   \n",
       "198                Закупка завершена   \n",
       "199                Закупка завершена   \n",
       "\n",
       "                                                  link  \\\n",
       "0    https://zakupki.gov.ru/223/purchase/public/pur...   \n",
       "1    https://zakupki.gov.ru/223/purchase/public/pur...   \n",
       "2    https://zakupki.gov.ru/223/purchase/public/pur...   \n",
       "3    https://zakupki.gov.ru/223/purchase/public/pur...   \n",
       "4    https://zakupki.gov.ru/223/purchase/public/pur...   \n",
       "..                                                 ...   \n",
       "195  /epz/order/notice/ea44/view/common-info.html?r...   \n",
       "196  https://zakupki.gov.ru/223/purchase/public/pur...   \n",
       "197  https://zakupki.gov.ru/223/purchase/public/pur...   \n",
       "198  https://zakupki.gov.ru/223/purchase/public/pur...   \n",
       "199  https://zakupki.gov.ru/223/purchase/public/pur...   \n",
       "\n",
       "                                   query  \n",
       "0    разработка программного обеспечения  \n",
       "1    разработка программного обеспечения  \n",
       "2    разработка программного обеспечения  \n",
       "3    разработка программного обеспечения  \n",
       "4    разработка программного обеспечения  \n",
       "..                                   ...  \n",
       "195  разработка программного обеспечения  \n",
       "196  разработка программного обеспечения  \n",
       "197  разработка программного обеспечения  \n",
       "198  разработка программного обеспечения  \n",
       "199  разработка программного обеспечения  \n",
       "\n",
       "[200 rows x 9 columns]"
      ]
     },
     "execution_count": 225,
     "metadata": {},
     "output_type": "execute_result"
    }
   ],
   "source": [
    "pd.DataFrame(list_of_dicts)"
   ]
  }
 ],
 "metadata": {
  "kernelspec": {
   "display_name": "Python 3",
   "language": "python",
   "name": "python3"
  },
  "language_info": {
   "codemirror_mode": {
    "name": "ipython",
    "version": 3
   },
   "file_extension": ".py",
   "mimetype": "text/x-python",
   "name": "python",
   "nbconvert_exporter": "python",
   "pygments_lexer": "ipython3",
   "version": "3.7.4"
  }
 },
 "nbformat": 4,
 "nbformat_minor": 2
}
