{
 "cells": [
  {
   "cell_type": "markdown",
   "metadata": {},
   "source": [
    "# Сбор данных для анализа тендеров"
   ]
  },
  {
   "cell_type": "markdown",
   "metadata": {},
   "source": [
    "Источник: [https://zakupki.gov.ru](https://zakupki.gov.ru/epz/main/public/home.html)"
   ]
  },
  {
   "cell_type": "markdown",
   "metadata": {},
   "source": [
    "### Импорт библиотек"
   ]
  },
  {
   "cell_type": "code",
   "execution_count": 14,
   "metadata": {},
   "outputs": [],
   "source": [
    "# библиотеки для работы с файлами\n",
    "import  yaml\n",
    "\n",
    "# библиотеки для работы с HTML\n",
    "import requests\n",
    "import selenium\n",
    "from bs4 import BeautifulSoup\n",
    "from utils.html import get_html\n",
    "\n",
    "# библиотеки для предобработки и анализа данных \n",
    "import pandas as pd\n",
    "# import numpy as np\n",
    "# import scipy.stats as stats\n",
    "\n",
    "# библиотеки для визуализации данных\n",
    "# import matplotlib.pyplot as plt\n",
    "# from matplotlib.cbook import boxplot_stats\n",
    "# import seaborn as sns\n",
    "# from plotly import graph_objects as go\n",
    "# %matplotlib inline\n",
    "\n",
    "# библиотеки для работы в jupyter notebook\n",
    "import warnings\n",
    "warnings.filterwarnings(action='once')  # показывает предупреждения один раз\n",
    "warnings.filterwarnings('ignore')"
   ]
  },
  {
   "cell_type": "markdown",
   "metadata": {},
   "source": [
    "### Настройка Jupyter Notebook"
   ]
  },
  {
   "cell_type": "code",
   "execution_count": 3,
   "metadata": {},
   "outputs": [],
   "source": [
    "# форматируем вывод\n",
    "# pd.options.display.float_format = '{:.4f}'.format\n",
    "# plt.rcParams['figure.figsize'] = (16,4)\n",
    "# plt.style.use('seaborn-whitegrid')"
   ]
  },
  {
   "cell_type": "markdown",
   "metadata": {},
   "source": [
    "### Чтение конфигурационных файлов"
   ]
  },
  {
   "cell_type": "code",
   "execution_count": null,
   "metadata": {},
   "outputs": [],
   "source": [
    "with open('configs/config-fishretail.yaml') as f:\n",
    "    config = yaml.load(f, Loader=yaml.FullLoader)\n",
    "\n",
    "BL = config['binary_location_mac']\n",
    "LOGIN = config['login']\n",
    "PASSWORD = config['password']"
   ]
  }
 ],
 "metadata": {
  "kernelspec": {
   "display_name": "python-3",
   "language": "python",
   "name": "python3"
  },
  "language_info": {
   "codemirror_mode": {
    "name": "ipython",
    "version": 3
   },
   "file_extension": ".py",
   "mimetype": "text/x-python",
   "name": "python",
   "nbconvert_exporter": "python",
   "pygments_lexer": "ipython3",
   "version": "3.7.4"
  }
 },
 "nbformat": 4,
 "nbformat_minor": 2
}
